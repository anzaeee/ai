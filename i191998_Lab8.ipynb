{
 "cells": [
  {
   "cell_type": "code",
   "execution_count": null,
   "metadata": {},
   "outputs": [],
   "source": [
    "import random\n",
    "\n",
    "def randomizer(required_digits,digits):\n",
    "\n",
    "    for i in range(5):\n",
    "        required_digits.append(0)\n",
    "        required_digits[i] = random.choice(digits)\n",
    "\n",
    "    while len(required_digits) != len(set(required_digits)):\n",
    "        for i in range(5):\n",
    "          required_digits[i] = random.choice(digits)\n",
    "    #print('No dups found\\n')\n",
    "    return required_digits\n",
    "    \n",
    "\n",
    "def SendMoreMoney():\n",
    "    result = []\n",
    "    digits = [1,2,3,4,5,6,7,8,9,0]\n",
    "    listoftrues = [0,0,0,0,0]\n",
    "    letters = ['s','e','n','d','m','o','r','y']\n",
    "    flag = False\n",
    "    while (flag != True):\n",
    "        required_digits = []\n",
    "        required_digits = randomizer(required_digits,digits)\n",
    "        for i in range(5):\n",
    "            send = 1000 * random.choice(required_digits) + 100 * random.choice(required_digits) + 10 * random.choice(required_digits) + random.choice(required_digits)\n",
    "            more = 1000 * random.choice(required_digits) + 100 * random.choice(required_digits) + 10 * random.choice(required_digits) + random.choice(required_digits)\n",
    "            money = 10000 + 1000 * random.choice(required_digits) + 100 * random.choice(required_digits) + 10 * random.choice(required_digits) + random.choice(required_digits)\n",
    "\n",
    "        if send + more == money:\n",
    "            result.append((send, more, money))\n",
    "            flag = True\n",
    "    return result\n",
    "\n",
    "print( SendMoreMoney() )"
   ]
  }
 ],
 "metadata": {
  "language_info": {
   "name": "python"
  },
  "orig_nbformat": 4
 },
 "nbformat": 4,
 "nbformat_minor": 2
}
