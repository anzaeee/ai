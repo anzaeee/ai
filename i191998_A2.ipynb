{
 "cells": [
  {
   "cell_type": "code",
   "execution_count": 62,
   "metadata": {},
   "outputs": [
    {
     "data": {
      "text/plain": [
       "'AI Assignment 2'"
      ]
     },
     "execution_count": 62,
     "metadata": {},
     "output_type": "execute_result"
    }
   ],
   "source": [
    "'Shanzay Asad - 19I1998'\n",
    "'AI Assignment 2'"
   ]
  },
  {
   "cell_type": "code",
   "execution_count": 63,
   "metadata": {},
   "outputs": [],
   "source": [
    "#Importing all valid libraries to be used for this assignment\n",
    "import pandas as pd\n",
    "import numpy as np\n",
    "from sklearn.preprocessing import LabelEncoder\n",
    "from sklearn.linear_model import LogisticRegression\n",
    "from sklearn.feature_extraction.text import CountVectorizer\n",
    "from sklearn.naive_bayes import MultinomialNB"
   ]
  },
  {
   "cell_type": "code",
   "execution_count": 64,
   "metadata": {},
   "outputs": [
    {
     "data": {
      "text/html": [
       "<div>\n",
       "<style scoped>\n",
       "    .dataframe tbody tr th:only-of-type {\n",
       "        vertical-align: middle;\n",
       "    }\n",
       "\n",
       "    .dataframe tbody tr th {\n",
       "        vertical-align: top;\n",
       "    }\n",
       "\n",
       "    .dataframe thead th {\n",
       "        text-align: right;\n",
       "    }\n",
       "</style>\n",
       "<table border=\"1\" class=\"dataframe\">\n",
       "  <thead>\n",
       "    <tr style=\"text-align: right;\">\n",
       "      <th></th>\n",
       "      <th>|1x3 Cross validator</th>\n",
       "    </tr>\n",
       "  </thead>\n",
       "  <tbody>\n",
       "    <tr>\n",
       "      <th>0</th>\n",
       "      <td>25, Private, 226802, 11th, 7, Never-married, M...</td>\n",
       "    </tr>\n",
       "    <tr>\n",
       "      <th>1</th>\n",
       "      <td>38, Private, 89814, HS-grad, 9, Married-civ-sp...</td>\n",
       "    </tr>\n",
       "    <tr>\n",
       "      <th>2</th>\n",
       "      <td>28, Local-gov, 336951, Assoc-acdm, 12, Married...</td>\n",
       "    </tr>\n",
       "    <tr>\n",
       "      <th>3</th>\n",
       "      <td>44, Private, 160323, Some-college, 10, Married...</td>\n",
       "    </tr>\n",
       "    <tr>\n",
       "      <th>4</th>\n",
       "      <td>18, ?, 103497, Some-college, 10, Never-married...</td>\n",
       "    </tr>\n",
       "    <tr>\n",
       "      <th>...</th>\n",
       "      <td>...</td>\n",
       "    </tr>\n",
       "    <tr>\n",
       "      <th>16276</th>\n",
       "      <td>39, Private, 215419, Bachelors, 13, Divorced, ...</td>\n",
       "    </tr>\n",
       "    <tr>\n",
       "      <th>16277</th>\n",
       "      <td>64, ?, 321403, HS-grad, 9, Widowed, ?, Other-r...</td>\n",
       "    </tr>\n",
       "    <tr>\n",
       "      <th>16278</th>\n",
       "      <td>38, Private, 374983, Bachelors, 13, Married-ci...</td>\n",
       "    </tr>\n",
       "    <tr>\n",
       "      <th>16279</th>\n",
       "      <td>44, Private, 83891, Bachelors, 13, Divorced, A...</td>\n",
       "    </tr>\n",
       "    <tr>\n",
       "      <th>16280</th>\n",
       "      <td>35, Self-emp-inc, 182148, Bachelors, 13, Marri...</td>\n",
       "    </tr>\n",
       "  </tbody>\n",
       "</table>\n",
       "<p>16281 rows × 1 columns</p>\n",
       "</div>"
      ],
      "text/plain": [
       "                                    |1x3 Cross validator\n",
       "0      25, Private, 226802, 11th, 7, Never-married, M...\n",
       "1      38, Private, 89814, HS-grad, 9, Married-civ-sp...\n",
       "2      28, Local-gov, 336951, Assoc-acdm, 12, Married...\n",
       "3      44, Private, 160323, Some-college, 10, Married...\n",
       "4      18, ?, 103497, Some-college, 10, Never-married...\n",
       "...                                                  ...\n",
       "16276  39, Private, 215419, Bachelors, 13, Divorced, ...\n",
       "16277  64, ?, 321403, HS-grad, 9, Widowed, ?, Other-r...\n",
       "16278  38, Private, 374983, Bachelors, 13, Married-ci...\n",
       "16279  44, Private, 83891, Bachelors, 13, Divorced, A...\n",
       "16280  35, Self-emp-inc, 182148, Bachelors, 13, Marri...\n",
       "\n",
       "[16281 rows x 1 columns]"
      ]
     },
     "execution_count": 64,
     "metadata": {},
     "output_type": "execute_result"
    }
   ],
   "source": [
    "data = pd.read_fwf(\"adult.data\") \n",
    "test = pd.read_fwf(\"adult.test\")\n",
    "test"
   ]
  },
  {
   "cell_type": "code",
   "execution_count": 65,
   "metadata": {},
   "outputs": [
    {
     "data": {
      "text/html": [
       "<div>\n",
       "<style scoped>\n",
       "    .dataframe tbody tr th:only-of-type {\n",
       "        vertical-align: middle;\n",
       "    }\n",
       "\n",
       "    .dataframe tbody tr th {\n",
       "        vertical-align: top;\n",
       "    }\n",
       "\n",
       "    .dataframe thead th {\n",
       "        text-align: right;\n",
       "    }\n",
       "</style>\n",
       "<table border=\"1\" class=\"dataframe\">\n",
       "  <thead>\n",
       "    <tr style=\"text-align: right;\">\n",
       "      <th></th>\n",
       "      <th>Characteristics</th>\n",
       "    </tr>\n",
       "  </thead>\n",
       "  <tbody>\n",
       "    <tr>\n",
       "      <th>0</th>\n",
       "      <td>25, Private, 226802, 11th, 7, Never-married, M...</td>\n",
       "    </tr>\n",
       "    <tr>\n",
       "      <th>1</th>\n",
       "      <td>38, Private, 89814, HS-grad, 9, Married-civ-sp...</td>\n",
       "    </tr>\n",
       "    <tr>\n",
       "      <th>2</th>\n",
       "      <td>28, Local-gov, 336951, Assoc-acdm, 12, Married...</td>\n",
       "    </tr>\n",
       "    <tr>\n",
       "      <th>3</th>\n",
       "      <td>44, Private, 160323, Some-college, 10, Married...</td>\n",
       "    </tr>\n",
       "    <tr>\n",
       "      <th>4</th>\n",
       "      <td>18, ?, 103497, Some-college, 10, Never-married...</td>\n",
       "    </tr>\n",
       "  </tbody>\n",
       "</table>\n",
       "</div>"
      ],
      "text/plain": [
       "                                     Characteristics\n",
       "0  25, Private, 226802, 11th, 7, Never-married, M...\n",
       "1  38, Private, 89814, HS-grad, 9, Married-civ-sp...\n",
       "2  28, Local-gov, 336951, Assoc-acdm, 12, Married...\n",
       "3  44, Private, 160323, Some-college, 10, Married...\n",
       "4  18, ?, 103497, Some-college, 10, Never-married..."
      ]
     },
     "execution_count": 65,
     "metadata": {},
     "output_type": "execute_result"
    }
   ],
   "source": [
    "#Preprocessing starts here\n",
    "data.rename(columns = {'State-gov, 77516, Bachelors, 13, Never-married, Adm-clerical, Not-in-family, White, Male, 2174, 0, 40, United-States, <=50K':\n",
    "'Characteristics'}, inplace = True)\n",
    "\n",
    "test.rename(columns = {'|1x3 Cross validator':'Characteristics'}, inplace = True)\n",
    "\n",
    "test.head()"
   ]
  },
  {
   "cell_type": "code",
   "execution_count": 66,
   "metadata": {},
   "outputs": [],
   "source": [
    "char = data['39,']+ ' ' + data['Characteristics']\n",
    "char = char.str.split(\",\")\n",
    "\n",
    "char_t = test['Characteristics'].str.split(\",\")\n",
    "#print(char_t)\n",
    "lis = []\n",
    "lis_t = []\n",
    "for i in range(0, len(char)):\n",
    "    lis.append(str(char[i][-1:])[2:-2].strip())\n",
    "\n",
    "for i in range(0, len(char_t)):\n",
    "    lis_t.append(str(char_t[i][-1:])[2:-3].strip()) \n"
   ]
  },
  {
   "cell_type": "code",
   "execution_count": 67,
   "metadata": {},
   "outputs": [
    {
     "name": "stdout",
     "output_type": "stream",
     "text": [
      "                                         Characteristics Salary\n",
      "0      25  Private  226802  11th  7  Never-married  M...  <=50K\n",
      "1      38  Private  89814  HS-grad  9  Married-civ-sp...  <=50K\n",
      "2      28  Local-gov  336951  Assoc-acdm  12  Married...   >50K\n",
      "3      44  Private  160323  Some-college  10  Married...   >50K\n",
      "4      18  ?  103497  Some-college  10  Never-married...  <=50K\n",
      "...                                                  ...    ...\n",
      "16276  39  Private  215419  Bachelors  13  Divorced  ...  <=50K\n",
      "16277  64  ?  321403  HS-grad  9  Widowed  ?  Other-r...  <=50K\n",
      "16278  38  Private  374983  Bachelors  13  Married-ci...  <=50K\n",
      "16279  44  Private  83891  Bachelors  13  Divorced  A...  <=50K\n",
      "16280  35  Self-emp-inc  182148  Bachelors  13  Marri...   >50K\n",
      "\n",
      "[16281 rows x 2 columns]\n"
     ]
    }
   ],
   "source": [
    "data['Characteristics'] = char\n",
    "data['Characteristics'] = data['Characteristics'].apply(lambda x: ' '.join(map(str,x)))\n",
    "data['Salary'] = lis\n",
    "\n",
    "test['Characteristics'] = char_t.apply(lambda x: ' '.join(map(str,x)))\n",
    "test['Salary'] = lis_t\n",
    "\n",
    "print(test)\n",
    "#print(data)"
   ]
  },
  {
   "cell_type": "code",
   "execution_count": 68,
   "metadata": {},
   "outputs": [],
   "source": [
    "\n",
    "data['Characteristics'] = data['Characteristics'].str.lower()\n",
    "test['Characteristics'] = test['Characteristics'].str.lower()\n",
    "from string import digits\n",
    "data['Characteristics'] = data['Characteristics'].str.translate({ord(k): None for k in digits}) #Removing alphanumeric from data with lambda function\n",
    "test['Characteristics'] = test['Characteristics'].str.translate({ord(k): None for k in digits}) #Removing alphanumeric from data with lambda function\n",
    "\n",
    "#Finally dropping the coloumn we don't require\n",
    "data = data.drop(columns=['39,'])\n",
    "data = data.dropna() #We do this to remove any nulls or undefined data points in our data\n",
    "test = test.dropna()"
   ]
  },
  {
   "cell_type": "code",
   "execution_count": 69,
   "metadata": {},
   "outputs": [
    {
     "data": {
      "text/html": [
       "<div>\n",
       "<style scoped>\n",
       "    .dataframe tbody tr th:only-of-type {\n",
       "        vertical-align: middle;\n",
       "    }\n",
       "\n",
       "    .dataframe tbody tr th {\n",
       "        vertical-align: top;\n",
       "    }\n",
       "\n",
       "    .dataframe thead th {\n",
       "        text-align: right;\n",
       "    }\n",
       "</style>\n",
       "<table border=\"1\" class=\"dataframe\">\n",
       "  <thead>\n",
       "    <tr style=\"text-align: right;\">\n",
       "      <th></th>\n",
       "      <th>Characteristics</th>\n",
       "      <th>Salary</th>\n",
       "    </tr>\n",
       "  </thead>\n",
       "  <tbody>\n",
       "    <tr>\n",
       "      <th>0</th>\n",
       "      <td>private    th    never-married  machine-op-i...</td>\n",
       "      <td>&lt;=50K</td>\n",
       "    </tr>\n",
       "    <tr>\n",
       "      <th>1</th>\n",
       "      <td>private    hs-grad    married-civ-spouse  fa...</td>\n",
       "      <td>&lt;=50K</td>\n",
       "    </tr>\n",
       "    <tr>\n",
       "      <th>2</th>\n",
       "      <td>local-gov    assoc-acdm    married-civ-spous...</td>\n",
       "      <td>&gt;50K</td>\n",
       "    </tr>\n",
       "    <tr>\n",
       "      <th>3</th>\n",
       "      <td>private    some-college    married-civ-spous...</td>\n",
       "      <td>&gt;50K</td>\n",
       "    </tr>\n",
       "    <tr>\n",
       "      <th>4</th>\n",
       "      <td>?    some-college    never-married  ?  own-c...</td>\n",
       "      <td>&lt;=50K</td>\n",
       "    </tr>\n",
       "  </tbody>\n",
       "</table>\n",
       "</div>"
      ],
      "text/plain": [
       "                                     Characteristics Salary\n",
       "0    private    th    never-married  machine-op-i...  <=50K\n",
       "1    private    hs-grad    married-civ-spouse  fa...  <=50K\n",
       "2    local-gov    assoc-acdm    married-civ-spous...   >50K\n",
       "3    private    some-college    married-civ-spous...   >50K\n",
       "4    ?    some-college    never-married  ?  own-c...  <=50K"
      ]
     },
     "execution_count": 69,
     "metadata": {},
     "output_type": "execute_result"
    }
   ],
   "source": [
    "test.head()"
   ]
  },
  {
   "cell_type": "code",
   "execution_count": 70,
   "metadata": {},
   "outputs": [
    {
     "data": {
      "text/html": [
       "<div>\n",
       "<style scoped>\n",
       "    .dataframe tbody tr th:only-of-type {\n",
       "        vertical-align: middle;\n",
       "    }\n",
       "\n",
       "    .dataframe tbody tr th {\n",
       "        vertical-align: top;\n",
       "    }\n",
       "\n",
       "    .dataframe thead th {\n",
       "        text-align: right;\n",
       "    }\n",
       "</style>\n",
       "<table border=\"1\" class=\"dataframe\">\n",
       "  <thead>\n",
       "    <tr style=\"text-align: right;\">\n",
       "      <th></th>\n",
       "      <th>Characteristics</th>\n",
       "      <th>Salary</th>\n",
       "    </tr>\n",
       "  </thead>\n",
       "  <tbody>\n",
       "    <tr>\n",
       "      <th>243</th>\n",
       "      <td>self-emp-not-inc    some-college    married-...</td>\n",
       "      <td>&lt;=50</td>\n",
       "    </tr>\n",
       "    <tr>\n",
       "      <th>259</th>\n",
       "      <td>self-emp-not-inc    prof-school    never-mar...</td>\n",
       "      <td>&lt;=5</td>\n",
       "    </tr>\n",
       "    <tr>\n",
       "      <th>298</th>\n",
       "      <td>self-emp-not-inc    assoc-voc    never-marri...</td>\n",
       "      <td>&gt;50</td>\n",
       "    </tr>\n",
       "    <tr>\n",
       "      <th>357</th>\n",
       "      <td>self-emp-not-inc    prof-school    married-c...</td>\n",
       "      <td>&gt;50</td>\n",
       "    </tr>\n",
       "    <tr>\n",
       "      <th>376</th>\n",
       "      <td>private    bachelors    married-civ-spouse  ...</td>\n",
       "      <td>&lt;=5</td>\n",
       "    </tr>\n",
       "  </tbody>\n",
       "</table>\n",
       "</div>"
      ],
      "text/plain": [
       "                                       Characteristics Salary\n",
       "243    self-emp-not-inc    some-college    married-...   <=50\n",
       "259    self-emp-not-inc    prof-school    never-mar...    <=5\n",
       "298    self-emp-not-inc    assoc-voc    never-marri...    >50\n",
       "357    self-emp-not-inc    prof-school    married-c...    >50\n",
       "376    private    bachelors    married-civ-spouse  ...    <=5"
      ]
     },
     "execution_count": 70,
     "metadata": {},
     "output_type": "execute_result"
    }
   ],
   "source": [
    "lis = ['?']\n",
    "repeated = ['>50K', '<=50K'] # means the same thing therefore it can be removed\n",
    "test['Characteristics'] = test['Characteristics'].str.translate({ord(k): None for k in lis})  #This is removing the ? we see\n",
    "data['Characteristics'] = data['Characteristics'].str.translate({ord(k): None for k in lis})  #This is removing the ? we see\n",
    "\n",
    "data = data[data[\"Salary\"].str.contains(\"<=50K\")==False]\n",
    "data = data[data[\"Salary\"].str.contains('>50K')==False]\n",
    "\n",
    "\n",
    "test = test[test[\"Salary\"].str.contains(\"<=50K\")==False]\n",
    "test = test[test[\"Salary\"].str.contains('>50K')==False]\n",
    "\n",
    "test.head()"
   ]
  },
  {
   "cell_type": "code",
   "execution_count": 71,
   "metadata": {},
   "outputs": [],
   "source": [
    "label = LabelEncoder()\n",
    "y_train = label.fit_transform(data['Salary'])\n",
    "y_test = label.fit_transform(test['Salary'])\n",
    "\n",
    "#Giving label to Salary makes it easier to predict it as a feature (as y)"
   ]
  },
  {
   "cell_type": "code",
   "execution_count": 72,
   "metadata": {},
   "outputs": [],
   "source": [
    "vec = CountVectorizer(stop_words='english').fit(data['Characteristics'])\n",
    "x_train = vec.transform(data['Characteristics'])\n",
    "\n",
    "x_test = vec.transform(test['Characteristics'])\n"
   ]
  },
  {
   "cell_type": "code",
   "execution_count": 73,
   "metadata": {},
   "outputs": [
    {
     "data": {
      "text/plain": [
       "<766x115 sparse matrix of type '<class 'numpy.int64'>'\n",
       "\twith 10001 stored elements in Compressed Sparse Row format>"
      ]
     },
     "execution_count": 73,
     "metadata": {},
     "output_type": "execute_result"
    }
   ],
   "source": [
    "x_train"
   ]
  },
  {
   "cell_type": "code",
   "execution_count": 74,
   "metadata": {},
   "outputs": [
    {
     "data": {
      "text/plain": [
       "(766,)"
      ]
     },
     "execution_count": 74,
     "metadata": {},
     "output_type": "execute_result"
    }
   ],
   "source": [
    "y_train.shape"
   ]
  },
  {
   "cell_type": "code",
   "execution_count": 75,
   "metadata": {},
   "outputs": [
    {
     "data": {
      "text/plain": [
       "<191x115 sparse matrix of type '<class 'numpy.int64'>'\n",
       "\twith 2561 stored elements in Compressed Sparse Row format>"
      ]
     },
     "execution_count": 75,
     "metadata": {},
     "output_type": "execute_result"
    }
   ],
   "source": [
    "x_test"
   ]
  },
  {
   "cell_type": "markdown",
   "metadata": {},
   "source": [
    "Logistic Regression"
   ]
  },
  {
   "cell_type": "code",
   "execution_count": 76,
   "metadata": {},
   "outputs": [
    {
     "data": {
      "text/plain": [
       "(191,)"
      ]
     },
     "execution_count": 76,
     "metadata": {},
     "output_type": "execute_result"
    }
   ],
   "source": [
    "y_test.shape"
   ]
  },
  {
   "cell_type": "code",
   "execution_count": 1,
   "metadata": {},
   "outputs": [
    {
     "ename": "NameError",
     "evalue": "name 'LogisticRegression' is not defined",
     "output_type": "error",
     "traceback": [
      "\u001b[0;31m---------------------------------------------------------------------------\u001b[0m",
      "\u001b[0;31mNameError\u001b[0m                                 Traceback (most recent call last)",
      "Cell \u001b[0;32mIn [1], line 2\u001b[0m\n\u001b[1;32m      1\u001b[0m \u001b[38;5;66;03m#x_train = x_train.reshape(32560,125)\u001b[39;00m\n\u001b[0;32m----> 2\u001b[0m LR \u001b[38;5;241m=\u001b[39m LogisticRegression()\u001b[38;5;241m.\u001b[39mfit(x_train, y_train) \u001b[38;5;66;03m#Loading LR into a valid object for further use and abbreviation\u001b[39;00m\n\u001b[1;32m      3\u001b[0m LR\u001b[38;5;241m.\u001b[39mpredict(x_test)\n\u001b[1;32m      5\u001b[0m \u001b[38;5;28mprint\u001b[39m(\u001b[38;5;28mstr\u001b[39m(LR\u001b[38;5;241m.\u001b[39mscore(x_test, y_test)\u001b[38;5;241m*\u001b[39m\u001b[38;5;241m100\u001b[39m) \u001b[38;5;241m+\u001b[39m \u001b[38;5;124m\"\u001b[39m\u001b[38;5;132;01m% a\u001b[39;00m\u001b[38;5;124mccuracy\u001b[39m\u001b[38;5;124m\"\u001b[39m)\n",
      "\u001b[0;31mNameError\u001b[0m: name 'LogisticRegression' is not defined"
     ]
    }
   ],
   "source": [
    "#x_train = x_train.reshape(32560,125)\n",
    "LR = LogisticRegression().fit(x_train, y_train) #Loading LR into a valid object for further use and abbreviation\n",
    "LR.predict(x_test)\n",
    "\n",
    "print(str(LR.score(x_test, y_test)*100) + \"% accuracy\")\n"
   ]
  },
  {
   "cell_type": "markdown",
   "metadata": {},
   "source": [
    "Naive Bayes"
   ]
  },
  {
   "cell_type": "code",
   "execution_count": 78,
   "metadata": {},
   "outputs": [
    {
     "name": "stdout",
     "output_type": "stream",
     "text": [
      "12.041884816753926% accuracy\n"
     ]
    }
   ],
   "source": [
    "mnb = MultinomialNB()\n",
    "mnb.fit(x_train, y_train)\n",
    "\n",
    "mnb.predict(x_test)\n",
    "print(str(mnb.score(x_test, y_test)*100) + \"% accuracy\")"
   ]
  },
  {
   "cell_type": "markdown",
   "metadata": {},
   "source": [
    "For some reason, the accuracy being reached is drastically low which can be chocked up to a issue with preprocessing. One possible issue identified is not removing repeated values\n",
    "However, by general concensus and by seeing the printing accuracy we can determine that the Logistic Regression model has given us a better accuracy"
   ]
  }
 ],
 "metadata": {
  "interpreter": {
   "hash": "31f2aee4e71d21fbe5cf8b01ff0e069b9275f58929596ceb00d14d90e3e16cd6"
  },
  "kernelspec": {
   "display_name": "Python 3.9.6 64-bit",
   "language": "python",
   "name": "python3"
  },
  "language_info": {
   "codemirror_mode": {
    "name": "ipython",
    "version": 3
   },
   "file_extension": ".py",
   "mimetype": "text/x-python",
   "name": "python",
   "nbconvert_exporter": "python",
   "pygments_lexer": "ipython3",
   "version": "3.9.6"
  },
  "orig_nbformat": 4
 },
 "nbformat": 4,
 "nbformat_minor": 2
}
